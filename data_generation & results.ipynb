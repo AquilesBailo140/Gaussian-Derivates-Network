{
 "cells": [
  {
   "cell_type": "markdown",
   "metadata": {},
   "source": [
    "## GENERACION DATASET"
   ]
  },
  {
   "cell_type": "code",
   "execution_count": 2,
   "metadata": {},
   "outputs": [],
   "source": [
    "import os\n",
    "from pathlib import Path\n",
    "import json\n",
    "from GT_functions import *"
   ]
  },
  {
   "cell_type": "markdown",
   "metadata": {},
   "source": [
    "### Dataset Shanghai Tech"
   ]
  },
  {
   "cell_type": "code",
   "execution_count": 3,
   "metadata": {},
   "outputs": [],
   "source": [
    "#Definimos la ruta del dataset\n",
    "root = r'C:\\Users\\Usuario\\Pictures\\Bases de Datos\\Shanghai Tech'"
   ]
  },
  {
   "cell_type": "markdown",
   "metadata": {},
   "source": [
    "##### TRAIN"
   ]
  },
  {
   "cell_type": "code",
   "execution_count": null,
   "metadata": {},
   "outputs": [],
   "source": [
    "#PART A\n",
    "part_A_train = os.path.join(root,'part_A_final/train_data','images')\n",
    "DTS_SG_part_A = GT_generation(ls_paths(part_A_train))\n",
    "\n",
    "with open(\"JSON FILES/DTS_SG_part_A.json\", \"w\") as outfile:\n",
    "    json.dump(DTS_SG_part_A , outfile)"
   ]
  },
  {
   "cell_type": "code",
   "execution_count": 3,
   "metadata": {},
   "outputs": [
    {
     "name": "stderr",
     "output_type": "stream",
     "text": [
      "100% |########################################################################|\n"
     ]
    }
   ],
   "source": [
    "#PART B\n",
    "part_B_train = os.path.join(root,'part_B_final/train_data','images')\n",
    "DTS_SG_part_B = GT_generation(ls_paths(part_B_train))\n",
    "\n",
    "with open(\"JSON FILES/DTS_SG_part_B.json\", \"w\") as outfile:\n",
    "    json.dump(DTS_SG_part_B , outfile)"
   ]
  },
  {
   "cell_type": "markdown",
   "metadata": {},
   "source": [
    "##### TEST"
   ]
  },
  {
   "cell_type": "code",
   "execution_count": null,
   "metadata": {},
   "outputs": [],
   "source": [
    "#PART A\n",
    "part_A_test = os.path.join(root,'part_A_final/test_data','images')\n",
    "DTS_SG_part_A_TEST = GT_generation(ls_paths(part_A_test))\n",
    "\n",
    "with open(\"JSON FILES/DTS_SG_part_A_TEST.json\", \"w\") as outfile:\n",
    "    json.dump(DTS_SG_part_A_TEST , outfile)"
   ]
  },
  {
   "cell_type": "code",
   "execution_count": 4,
   "metadata": {},
   "outputs": [
    {
     "name": "stderr",
     "output_type": "stream",
     "text": [
      "100% |########################################################################|\n"
     ]
    }
   ],
   "source": [
    "#PART B\n",
    "part_B_test = os.path.join(root,'part_B_final/test_data','images')\n",
    "DTS_SG_part_B_TEST = GT_generation(ls_paths(part_B_test))\n",
    "\n",
    "with open(\"JSON FILES/DTS_SG_part_B_TEST.json\", \"w\") as outfile:\n",
    "    json.dump(DTS_SG_part_B_TEST , outfile)"
   ]
  },
  {
   "cell_type": "markdown",
   "metadata": {},
   "source": [
    "## EXPLORACION RESULTADOS"
   ]
  },
  {
   "cell_type": "code",
   "execution_count": 1,
   "metadata": {},
   "outputs": [],
   "source": [
    "import json\n",
    "from load_data import *\n",
    "from plotting import *\n",
    "import os"
   ]
  },
  {
   "cell_type": "code",
   "execution_count": 2,
   "metadata": {},
   "outputs": [],
   "source": [
    "#Importamos los ground truth del conjunto de entrenamiento y test. \n",
    "json_train = open('JSON FILES\\DTS_SG_part_A.json')\n",
    "json_test = open('JSON FILES\\DTS_SG_part_A_TEST.json')\n",
    "predict_root = r'C:\\Users\\Usuario\\Pictures\\Bases de Datos\\Shanghai Tech\\part_A_final\\results'\n",
    "\n",
    "name_version = 'V3.0.5'\n",
    "paths_train = json.load(json_train)\n",
    "paths_test = json.load(json_test)\n",
    "path_predict = os.path.join(predict_root, name_version + '.h5')\n",
    "\n",
    "#Cargamos la data \n",
    "train_GT = mLoad_GT(paths_train)\n",
    "train_img = mLoad_Img(paths_train)\n",
    "\n",
    "test_GT = mLoad_GT(paths_test)\n",
    "test_img = mLoad_Img(paths_test)\n",
    "\n",
    "#Cargamos los resultados de la prediccion\n",
    "train_predict, test_predict = mLoad_Pred(path_predict)"
   ]
  },
  {
   "cell_type": "code",
   "execution_count": 6,
   "metadata": {},
   "outputs": [
    {
     "data": {
      "text/plain": [
       "TensorShape([300, 1024, 1024])"
      ]
     },
     "execution_count": 6,
     "metadata": {},
     "output_type": "execute_result"
    }
   ],
   "source": [
    "train_GT.shape"
   ]
  },
  {
   "cell_type": "code",
   "execution_count": 3,
   "metadata": {},
   "outputs": [
    {
     "name": "stderr",
     "output_type": "stream",
     "text": [
      "  0% |                                                                        |\r"
     ]
    },
    {
     "ename": "InvalidArgumentError",
     "evalue": "{{function_node __wrapped__StridedSlice_device_/job:localhost/replica:0/task:0/device:CPU:0}} Index out of range using input dim 3; input has only 3 dims [Op:StridedSlice] name: strided_slice/",
     "output_type": "error",
     "traceback": [
      "\u001b[1;31m---------------------------------------------------------------------------\u001b[0m",
      "\u001b[1;31mInvalidArgumentError\u001b[0m                      Traceback (most recent call last)",
      "\u001b[1;32mc:\\Users\\Usuario\\Documents\\Nueva carpeta\\Gaussian-Derivates-Network\\data_generation & results.ipynb Celda 14\u001b[0m in \u001b[0;36m<cell line: 1>\u001b[1;34m()\u001b[0m\n\u001b[1;32m----> <a href='vscode-notebook-cell:/c%3A/Users/Usuario/Documents/Nueva%20carpeta/Gaussian-Derivates-Network/data_generation%20%26%20results.ipynb#X16sZmlsZQ%3D%3D?line=0'>1</a>\u001b[0m count_estimate(train_img, train_GT, train_predict, name_version, \u001b[39m'\u001b[39;49m\u001b[39mtrain\u001b[39;49m\u001b[39m'\u001b[39;49m)\n\u001b[0;32m      <a href='vscode-notebook-cell:/c%3A/Users/Usuario/Documents/Nueva%20carpeta/Gaussian-Derivates-Network/data_generation%20%26%20results.ipynb#X16sZmlsZQ%3D%3D?line=1'>2</a>\u001b[0m count_estimate(test_img, test_GT, test_predict, name_version, \u001b[39m'\u001b[39m\u001b[39mtest\u001b[39m\u001b[39m'\u001b[39m)\n",
      "File \u001b[1;32mc:\\Users\\Usuario\\Documents\\Nueva carpeta\\Gaussian-Derivates-Network\\plotting.py:24\u001b[0m, in \u001b[0;36mcount_estimate\u001b[1;34m(test_img, test_gt, predict, name, type)\u001b[0m\n\u001b[0;32m     22\u001b[0m progress \u001b[39m=\u001b[39m progressbar\u001b[39m.\u001b[39mProgressBar()\n\u001b[0;32m     23\u001b[0m \u001b[39mfor\u001b[39;00m i \u001b[39min\u001b[39;00m progress(\u001b[39mrange\u001b[39m(N)):\n\u001b[1;32m---> 24\u001b[0m     IMG \u001b[39m=\u001b[39m test_img[i,:,:,\u001b[39m0\u001b[39;49m]\n\u001b[0;32m     25\u001b[0m     GT \u001b[39m=\u001b[39m test_gt[i,:,:,\u001b[39m0\u001b[39m]\n\u001b[0;32m     26\u001b[0m     PRED \u001b[39m=\u001b[39m predict[i,:,:,\u001b[39m0\u001b[39m]\n",
      "File \u001b[1;32mc:\\Users\\Usuario\\anaconda3\\lib\\site-packages\\tensorflow\\python\\util\\traceback_utils.py:153\u001b[0m, in \u001b[0;36mfilter_traceback.<locals>.error_handler\u001b[1;34m(*args, **kwargs)\u001b[0m\n\u001b[0;32m    151\u001b[0m \u001b[39mexcept\u001b[39;00m \u001b[39mException\u001b[39;00m \u001b[39mas\u001b[39;00m e:\n\u001b[0;32m    152\u001b[0m   filtered_tb \u001b[39m=\u001b[39m _process_traceback_frames(e\u001b[39m.\u001b[39m__traceback__)\n\u001b[1;32m--> 153\u001b[0m   \u001b[39mraise\u001b[39;00m e\u001b[39m.\u001b[39mwith_traceback(filtered_tb) \u001b[39mfrom\u001b[39;00m \u001b[39mNone\u001b[39m\n\u001b[0;32m    154\u001b[0m \u001b[39mfinally\u001b[39;00m:\n\u001b[0;32m    155\u001b[0m   \u001b[39mdel\u001b[39;00m filtered_tb\n",
      "File \u001b[1;32mc:\\Users\\Usuario\\anaconda3\\lib\\site-packages\\tensorflow\\python\\framework\\ops.py:7209\u001b[0m, in \u001b[0;36mraise_from_not_ok_status\u001b[1;34m(e, name)\u001b[0m\n\u001b[0;32m   7207\u001b[0m \u001b[39mdef\u001b[39;00m \u001b[39mraise_from_not_ok_status\u001b[39m(e, name):\n\u001b[0;32m   7208\u001b[0m   e\u001b[39m.\u001b[39mmessage \u001b[39m+\u001b[39m\u001b[39m=\u001b[39m (\u001b[39m\"\u001b[39m\u001b[39m name: \u001b[39m\u001b[39m\"\u001b[39m \u001b[39m+\u001b[39m name \u001b[39mif\u001b[39;00m name \u001b[39mis\u001b[39;00m \u001b[39mnot\u001b[39;00m \u001b[39mNone\u001b[39;00m \u001b[39melse\u001b[39;00m \u001b[39m\"\u001b[39m\u001b[39m\"\u001b[39m)\n\u001b[1;32m-> 7209\u001b[0m   \u001b[39mraise\u001b[39;00m core\u001b[39m.\u001b[39m_status_to_exception(e) \u001b[39mfrom\u001b[39;00m \u001b[39mNone\u001b[39m\n",
      "\u001b[1;31mInvalidArgumentError\u001b[0m: {{function_node __wrapped__StridedSlice_device_/job:localhost/replica:0/task:0/device:CPU:0}} Index out of range using input dim 3; input has only 3 dims [Op:StridedSlice] name: strided_slice/"
     ]
    }
   ],
   "source": [
    "count_estimate(train_img, train_GT, train_predict, name_version, 'train')\n",
    "count_estimate(test_img, test_GT, test_predict, name_version, 'test')"
   ]
  }
 ],
 "metadata": {
  "kernelspec": {
   "display_name": "Python 3 (ipykernel)",
   "language": "python",
   "name": "python3"
  },
  "language_info": {
   "codemirror_mode": {
    "name": "ipython",
    "version": 3
   },
   "file_extension": ".py",
   "mimetype": "text/x-python",
   "name": "python",
   "nbconvert_exporter": "python",
   "pygments_lexer": "ipython3",
   "version": "3.9.13"
  },
  "vscode": {
   "interpreter": {
    "hash": "e06ff7da33dc9620448857a90ad8b5f428f0d573d205a934d2841c8aee45ea32"
   }
  }
 },
 "nbformat": 4,
 "nbformat_minor": 2
}
