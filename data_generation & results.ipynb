{
 "cells": [
  {
   "cell_type": "markdown",
   "metadata": {},
   "source": [
    "## GENERACION GROUND TRUE"
   ]
  },
  {
   "cell_type": "markdown",
   "metadata": {},
   "source": [
    "### Dataset Shanghai Tech"
   ]
  },
  {
   "cell_type": "code",
   "execution_count": null,
   "metadata": {},
   "outputs": [],
   "source": [
    "import os\n",
    "import json\n",
    "from GT_functions import *\n",
    "\n",
    "#Definimos la ruta del dataset\n",
    "root = r'C:\\Users\\Usuario\\Pictures\\Bases de Datos\\Shanghai Tech'\n",
    "part_A_train = os.path.join(root,'part_A_final/train_data','images')"
   ]
  },
  {
   "cell_type": "markdown",
   "metadata": {},
   "source": [
    "##### TRAIN"
   ]
  },
  {
   "cell_type": "code",
   "execution_count": null,
   "metadata": {},
   "outputs": [],
   "source": [
    "#PART A\n",
    "part_A_train = os.path.join(root,'part_A_final/train_data','images')\n",
    "GT_generation(ls_paths(part_A_train))\n",
    "#PART B\n",
    "part_B_train = os.path.join(root,'part_B_final/train_data','images')\n",
    "GT_generation(ls_paths(part_B_train))\n"
   ]
  },
  {
   "cell_type": "markdown",
   "metadata": {},
   "source": [
    "##### TEST"
   ]
  },
  {
   "cell_type": "code",
   "execution_count": null,
   "metadata": {},
   "outputs": [],
   "source": [
    "#PART A\n",
    "part_A_test = os.path.join(root,'part_A_final/test_data','images')\n",
    "GT_generation(ls_paths(part_A_test))\n",
    "#PART B\n",
    "part_B_test = os.path.join(root,'part_B_final/test_data','images')\n",
    "GT_generation(ls_paths(part_B_test))"
   ]
  },
  {
   "cell_type": "markdown",
   "metadata": {},
   "source": [
    "# MAKE DATASET GREAT AGAIN"
   ]
  },
  {
   "cell_type": "code",
   "execution_count": null,
   "metadata": {},
   "outputs": [],
   "source": [
    "import numpy as np\n",
    "import matplotlib.pyplot as plt\n",
    "import h5py\n",
    "from load_data import*\n",
    "\n",
    "root = r'C:\\Users\\Usuario\\Pictures\\Bases de Datos\\Shanghai Tech'\n",
    "part_A_train = os.path.join(root,'part_A_final/train_data','images')\n",
    "part_A_test = os.path.join(root,'part_A_final/test_data','images')\n",
    "\n",
    "train = Load_Data(part_A_train)\n",
    "test = Load_Data(part_A_test)\n",
    "\n",
    "with h5py.File('data.h5', 'w') as hf:\n",
    "    hf['train'] =  train\n",
    "    hf['test'] =  test"
   ]
  },
  {
   "cell_type": "markdown",
   "metadata": {},
   "source": [
    "## EXPLORACION RESULTADOS"
   ]
  },
  {
   "cell_type": "code",
   "execution_count": 4,
   "metadata": {},
   "outputs": [
    {
     "data": {
      "text/plain": [
       "<bound method File.close of <HDF5 file \"data.h5\" (mode r)>>"
      ]
     },
     "execution_count": 4,
     "metadata": {},
     "output_type": "execute_result"
    }
   ],
   "source": [
    "import json\n",
    "from load_data import *\n",
    "from plotting import *\n",
    "import os\n",
    "\n",
    "data_root = r\"C:\\Users\\Usuario\\Pictures\\Bases de Datos\\Shanghai Tech\\part_A_final\\data.h5\"\n",
    "train_precit_root = r\n",
    "test_predict_root = r\"C:\\Users\\Usuario\\Pictures\\Bases de Datos\\Shanghai Tech\\part_A_final\\results\\v5.0.1\\v5.0.1_test.h5\"\n",
    "\n",
    "f = h5py.File(data_root, 'r')\n",
    "train = tf.constant(np.asarray(f['train']))\n",
    "test = tf.constant(np.asarray(f['test']))\n",
    "f.close\n",
    "\n",
    "\n",
    "test_lts = []\n",
    "pred_test = h5py.File(test_predict_root, 'r')\n",
    "for i in range(300):\n",
    "    test_lts.append(tf.constant(np.asarray(f['IMG_'+str(i)])))\n",
    "pred_test.close"
   ]
  },
  {
   "cell_type": "code",
   "execution_count": 7,
   "metadata": {},
   "outputs": [],
   "source": [
    "test_predict_root = r\"C:\\Users\\Usuario\\Pictures\\Bases de Datos\\Shanghai Tech\\part_A_final\\results\\v5.0.1\\v5.0.1_test.h5\"\n",
    "\n",
    "test_lts = []\n",
    "pred_test = h5py.File(test_predict_root, 'r')\n",
    "#for i in range(182):\n",
    "#    test_lts.append(tf.constant(np.asarray(f['IMG_'+str(i)])))\n",
    "#pred_test.close"
   ]
  },
  {
   "cell_type": "code",
   "execution_count": 12,
   "metadata": {},
   "outputs": [
    {
     "data": {
      "text/plain": [
       "<bound method File.close of <HDF5 file \"v5.0.1_test.h5\" (mode r)>>"
      ]
     },
     "execution_count": 12,
     "metadata": {},
     "output_type": "execute_result"
    }
   ],
   "source": [
    "pred_test.close"
   ]
  },
  {
   "cell_type": "code",
   "execution_count": null,
   "metadata": {},
   "outputs": [],
   "source": [
    "train_lts = []\n",
    "for i in range(300):\n",
    "    train_lts = tf.constant(np.asarray(f['IMG_'+str(i)]))"
   ]
  },
  {
   "cell_type": "code",
   "execution_count": null,
   "metadata": {},
   "outputs": [],
   "source": [
    "count_estimate(train_img, train_GT, train_predict, name_version, 'train')\n",
    "count_estimate(test_img, test_GT, test_predict, name_version, 'test')"
   ]
  }
 ],
 "metadata": {
  "kernelspec": {
   "display_name": "Python 3 (ipykernel)",
   "language": "python",
   "name": "python3"
  },
  "language_info": {
   "codemirror_mode": {
    "name": "ipython",
    "version": 3
   },
   "file_extension": ".py",
   "mimetype": "text/x-python",
   "name": "python",
   "nbconvert_exporter": "python",
   "pygments_lexer": "ipython3",
   "version": "3.9.13"
  },
  "vscode": {
   "interpreter": {
    "hash": "e06ff7da33dc9620448857a90ad8b5f428f0d573d205a934d2841c8aee45ea32"
   }
  }
 },
 "nbformat": 4,
 "nbformat_minor": 2
}
