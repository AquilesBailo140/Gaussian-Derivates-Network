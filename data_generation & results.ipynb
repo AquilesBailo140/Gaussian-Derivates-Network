{
 "cells": [
  {
   "cell_type": "markdown",
   "metadata": {},
   "source": [
    "## GENERACION GROUND TRUE"
   ]
  },
  {
   "cell_type": "markdown",
   "metadata": {},
   "source": [
    "### Dataset Shanghai Tech"
   ]
  },
  {
   "cell_type": "code",
   "execution_count": null,
   "metadata": {},
   "outputs": [],
   "source": [
    "import os\n",
    "import json\n",
    "from GT_functions import *\n",
    "\n",
    "#Definimos la ruta del dataset\n",
    "root = r'C:\\Users\\Usuario\\Pictures\\Bases de Datos\\Shanghai Tech'\n",
    "part_A_train = os.path.join(root,'part_A_final/train_data','images')"
   ]
  },
  {
   "cell_type": "markdown",
   "metadata": {},
   "source": [
    "##### TRAIN"
   ]
  },
  {
   "cell_type": "code",
   "execution_count": null,
   "metadata": {},
   "outputs": [],
   "source": [
    "#PART A\n",
    "part_A_train = os.path.join(root,'part_A_final/train_data','images')\n",
    "GT_generation(ls_paths(part_A_train))\n",
    "#PART B\n",
    "part_B_train = os.path.join(root,'part_B_final/train_data','images')\n",
    "GT_generation(ls_paths(part_B_train))\n"
   ]
  },
  {
   "cell_type": "markdown",
   "metadata": {},
   "source": [
    "##### TEST"
   ]
  },
  {
   "cell_type": "code",
   "execution_count": null,
   "metadata": {},
   "outputs": [],
   "source": [
    "#PART A\n",
    "part_A_test = os.path.join(root,'part_A_final/test_data','images')\n",
    "GT_generation(ls_paths(part_A_test))\n",
    "#PART B\n",
    "part_B_test = os.path.join(root,'part_B_final/test_data','images')\n",
    "GT_generation(ls_paths(part_B_test))"
   ]
  },
  {
   "cell_type": "markdown",
   "metadata": {},
   "source": [
    "# MAKE DATASET GREAT AGAIN"
   ]
  },
  {
   "cell_type": "code",
   "execution_count": 7,
   "metadata": {},
   "outputs": [],
   "source": [
    "import numpy as np\n",
    "import matplotlib.pyplot as plt\n",
    "import h5py\n",
    "from load_data import*\n",
    "\n",
    "root = r'C:\\Users\\Usuario\\Pictures\\Bases de Datos\\Shanghai Tech'\n",
    "part_A_train = os.path.join(root,'part_B_final/train_data','images')\n",
    "part_A_test = os.path.join(root,'part_B_final/test_data','images')\n",
    "\n",
    "train = Load_Data(part_A_train)\n",
    "test = Load_Data(part_A_test)\n",
    "\n",
    "with h5py.File('data.h5', 'w') as hf:\n",
    "    hf['train'] =  train\n",
    "    hf['test'] =  test"
   ]
  },
  {
   "cell_type": "markdown",
   "metadata": {},
   "source": [
    "## EXPLORACION RESULTADOS"
   ]
  },
  {
   "cell_type": "code",
   "execution_count": null,
   "metadata": {},
   "outputs": [],
   "source": [
    "from load_data import *\n",
    "from plotting import *\n",
    "import h5py\n",
    "\n",
    "data_root = r\"C:\\Users\\Usuario\\Pictures\\Bases de Datos\\Shanghai Tech\\part_B_final\\data.h5\"\n",
    "\n",
    "f = h5py.File(data_root, 'r')\n",
    "train = tf.constant(np.asarray(f['train']))\n",
    "test = tf.constant(np.asarray(f['test']))\n",
    "f.close"
   ]
  },
  {
   "cell_type": "code",
   "execution_count": null,
   "metadata": {},
   "outputs": [],
   "source": [
    "predict_root = r\"C:\\Users\\Usuario\\Pictures\\Bases de Datos\\Shanghai Tech\\part_B_final\\result\\v5.0.2.train.h5\"\n",
    "\n",
    "pred = h5py.File(predict_root, 'r')\n",
    "#train_pred = tf.constant(np.asarray(pred['train']))\n",
    "#test_pred = tf.constant(np.asarray(pred['test']))\n",
    "#pred.close\n",
    "\n",
    "lts = []\n",
    "for i in range(400):\n",
    "    lts.append(pred['train'][i,:,:,:,:])\n",
    "\n",
    "train_pred = tf.concat(lts, axis=0)\n",
    "pred.close\n",
    "del lts, predict_root\n",
    "\n",
    "\n",
    "predict_root = r\"C:\\Users\\Usuario\\Pictures\\Bases de Datos\\Shanghai Tech\\part_B_final\\result\\v5.0.2.test.h5\"\n",
    "\n",
    "pred = h5py.File(predict_root, 'r')\n",
    "#train_pred = tf.constant(np.asarray(pred['train']))\n",
    "#test_pred = tf.constant(np.asarray(pred['test']))\n",
    "#pred.close\n",
    "\n",
    "lts = []\n",
    "for i in range(316):\n",
    "    lts.append(pred['test'][i,:,:,:,:])\n",
    "\n",
    "test_pred = tf.concat(lts, axis=0)\n",
    "pred.close\n",
    "del lts, predict_root"
   ]
  },
  {
   "cell_type": "code",
   "execution_count": null,
   "metadata": {},
   "outputs": [],
   "source": [
    "import matplotlib.pyplot as plt\n",
    "\n",
    "A = train[0,:,:,1]\n",
    "B = train_pred[0,:,:,0]\n",
    "\n",
    "plt.figure()\n",
    "plt.subplot(1, 2, 1), plt.imshow(A)\n",
    "plt.subplot(1, 2, 2), plt.imshow(B)\n",
    "\n",
    "plt.show()"
   ]
  },
  {
   "cell_type": "code",
   "execution_count": null,
   "metadata": {},
   "outputs": [],
   "source": [
    "count_estimate(train[:,:,:,0:1], train[:,:,:,1:2], train_pred, 'v5.0.2', 'train')\n",
    "count_estimate(test[:,:,:,0:1], test[:,:,:,1:2], test_pred,'v5.0.2', 'test')"
   ]
  }
 ],
 "metadata": {
  "kernelspec": {
   "display_name": "Python 3 (ipykernel)",
   "language": "python",
   "name": "python3"
  },
  "language_info": {
   "codemirror_mode": {
    "name": "ipython",
    "version": 3
   },
   "file_extension": ".py",
   "mimetype": "text/x-python",
   "name": "python",
   "nbconvert_exporter": "python",
   "pygments_lexer": "ipython3",
   "version": "3.9.13"
  },
  "vscode": {
   "interpreter": {
    "hash": "e06ff7da33dc9620448857a90ad8b5f428f0d573d205a934d2841c8aee45ea32"
   }
  }
 },
 "nbformat": 4,
 "nbformat_minor": 2
}
