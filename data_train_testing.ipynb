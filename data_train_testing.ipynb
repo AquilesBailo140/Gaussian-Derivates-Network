{
 "cells": [
  {
   "cell_type": "code",
   "execution_count": 1,
   "metadata": {},
   "outputs": [],
   "source": [
    "import json\n",
    "import h5py\n",
    "from load_data import *\n",
    "from model import *\n",
    "import tensorflow as tf \n",
    "import os "
   ]
  },
  {
   "cell_type": "markdown",
   "metadata": {},
   "source": [
    "Importamos los ground truth del conjunto de entrenamiento y test. "
   ]
  },
  {
   "cell_type": "code",
   "execution_count": 2,
   "metadata": {},
   "outputs": [],
   "source": [
    "json_train = open('JSON FILES\\DTS_SG_part_A.json')\n",
    "json_test = open('JSON FILES\\DTS_SG_part_A_TEST.json')\n",
    "paths_train = json.load(json_train)\n",
    "paths_test = json.load(json_test)\n",
    "\n",
    "#Cargamos la data \n",
    "train_GT = mLoad_GT(paths_train, n=10)\n",
    "train_img = mLoad_Img(paths_train, n=10)\n",
    "\n",
    "test_GT = mLoad_GT(paths_test, n=5)\n",
    "test_img = mLoad_Img(paths_test, n=5)"
   ]
  },
  {
   "cell_type": "markdown",
   "metadata": {},
   "source": [
    "Construimos la red neuronal. Este sera un prototipo hasta siguiente cambio"
   ]
  },
  {
   "cell_type": "code",
   "execution_count": 3,
   "metadata": {},
   "outputs": [],
   "source": [
    "input_shape = train_img[0,:,:,:].shape\n",
    "model = Betsy(input_shape)\n",
    "\n",
    "\n",
    "#model.build_graph(input_shape).summary()\n",
    "model.compile(loss = GAME_loss,\n",
    "              optimizer = tf.keras.optimizers.Adam(learning_rate = 0.01), \n",
    "              metrics = [sMAE(), RMSE()])"
   ]
  },
  {
   "cell_type": "markdown",
   "metadata": {},
   "source": [
    "Entrenamos un poco para testeo!"
   ]
  },
  {
   "cell_type": "code",
   "execution_count": 4,
   "metadata": {},
   "outputs": [
    {
     "name": "stdout",
     "output_type": "stream",
     "text": [
      "1/1 [==============================] - ETA: 0s - loss: 4513489.0000 - sMAE: 0.0000e+00 - RMSE: 0.0000e+00\n",
      "Epoch 1: saving model to training\\cp.ckpt\n",
      "1/1 [==============================] - 629s 629s/step - loss: 4513489.0000 - sMAE: 0.0000e+00 - RMSE: 0.0000e+00 - val_loss: 294.4048 - val_sMAE: 0.0000e+00 - val_RMSE: 0.0000e+00\n"
     ]
    }
   ],
   "source": [
    "checkpoint_path = \"training/cp.ckpt\"\n",
    "checkpoint_dir = os.path.dirname(checkpoint_path)\n",
    "\n",
    "\n",
    "# Create a callback that saves the model's weights\n",
    "cp_callback = tf.keras.callbacks.ModelCheckpoint(filepath=checkpoint_path,\n",
    "                                                 save_weights_only=True,\n",
    "                                                 verbose=1)\n",
    "\n",
    "\n",
    "history = model.fit(train_img, \n",
    "                    train_GT, \n",
    "                    batch_size = 10, \n",
    "                    epochs = 1, \n",
    "                    validation_data=(test_img, test_GT), \n",
    "                    callbacks=[cp_callback])"
   ]
  },
  {
   "cell_type": "code",
   "execution_count": 5,
   "metadata": {},
   "outputs": [],
   "source": [
    "model.layers[0].deploy()\n",
    "model.layers[1].deploy()\n",
    "model.layers[2].deploy()\n",
    "model.layers[3].deploy()\n",
    "model.layers[4].deploy()"
   ]
  },
  {
   "cell_type": "code",
   "execution_count": 7,
   "metadata": {},
   "outputs": [],
   "source": [
    "predict = model.predict(train_img)"
   ]
  },
  {
   "cell_type": "code",
   "execution_count": 8,
   "metadata": {},
   "outputs": [],
   "source": [
    "def plotting(i):\n",
    "    font = {'color':  'black','weight': 'normal','size': 16}\n",
    "\n",
    "    fig = plt.figure(figsize=(16, 4), constrained_layout=True)\n",
    "    ax1 = fig.add_subplot(1,3,1)\n",
    "    ax1.imshow(test_img[i,:,:,0], cmap = 'gray')\n",
    "    ax1.axis('off')\n",
    "    ax1.set_title('Imagen Real', fontdict=font)\n",
    "    ax1.text(0.1, -0.1, 'right bottom',\n",
    "            horizontalalignment='right',\n",
    "            verticalalignment='top',\n",
    "            transform=ax1.transAxes, )\n",
    "\n",
    "    ax2 = fig.add_subplot(1,3,2)\n",
    "    ax2.set_title('GT', fontdict=font)\n",
    "    ax2.imshow(test_GT[i,:,:,0], interpolation='gaussian')\n",
    "    ax2.axis('off')\n",
    "\n",
    "    ax3 = fig.add_subplot(1,3,3)\n",
    "    ax3.set_title('Densidad Estimada', fontdict=font)\n",
    "    ax3.imshow(tt[i,:,:,0], interpolation='gaussian')\n",
    "    ax3.axis('off')\n",
    "\n",
    "\n",
    "    fig.savefig('plots/test_' + str(i) + '.png');\n",
    "    plt.close(fig)"
   ]
  },
  {
   "cell_type": "code",
   "execution_count": 9,
   "metadata": {},
   "outputs": [],
   "source": [
    "for i in range(len(test_GT)):\n",
    "    plotting(i)"
   ]
  },
  {
   "cell_type": "code",
   "execution_count": null,
   "metadata": {},
   "outputs": [],
   "source": [
    "tt = model(test_img)\n",
    "\n",
    "font = {'color':  'black',\n",
    "        'weight': 'normal',\n",
    "        'size': 16}\n",
    "\n",
    "fig = plt.figure(figsize=(16, 4), constrained_layout=True)\n",
    "ax1 = fig.add_subplot(1,3,1)\n",
    "ax1.imshow(test_img[0,:,:,0], cmap = 'gray')\n",
    "ax1.axis('off')\n",
    "ax1.set_title('Imagen Real', fontdict=font)\n",
    "ax1.text(0.1, -0.1, 'right bottom',\n",
    "        horizontalalignment='right',\n",
    "        verticalalignment='top',\n",
    "        transform=ax1.transAxes, )\n",
    "\n",
    "ax2 = fig.add_subplot(1,3,2)\n",
    "ax2.set_title('GT', fontdict=font)\n",
    "ax2.imshow(test_GT[0,:,:,0], interpolation='gaussian')\n",
    "ax2.axis('off')\n",
    "\n",
    "ax3 = fig.add_subplot(1,3,3)\n",
    "ax3.set_title('Densidad Estimada', fontdict=font)\n",
    "ax3.imshow(tt[0,:,:,0], interpolation='gaussian')\n",
    "ax3.axis('off')\n",
    "\n",
    "\n",
    "fig.savefig('fif.jpg')"
   ]
  },
  {
   "cell_type": "code",
   "execution_count": null,
   "metadata": {},
   "outputs": [],
   "source": [
    "score = model.evaluate(test_img, test_GT, verbose = 0)\n",
    "print('Test Mean Squared Error : %.2f and Test Loss : %.3f' % (score[1]*100, score[0]))"
   ]
  }
 ],
 "metadata": {
  "kernelspec": {
   "display_name": "Python 3.9.12 ('base')",
   "language": "python",
   "name": "python3"
  },
  "language_info": {
   "codemirror_mode": {
    "name": "ipython",
    "version": 3
   },
   "file_extension": ".py",
   "mimetype": "text/x-python",
   "name": "python",
   "nbconvert_exporter": "python",
   "pygments_lexer": "ipython3",
   "version": "3.9.13"
  },
  "orig_nbformat": 4,
  "vscode": {
   "interpreter": {
    "hash": "e06ff7da33dc9620448857a90ad8b5f428f0d573d205a934d2841c8aee45ea32"
   }
  }
 },
 "nbformat": 4,
 "nbformat_minor": 2
}
