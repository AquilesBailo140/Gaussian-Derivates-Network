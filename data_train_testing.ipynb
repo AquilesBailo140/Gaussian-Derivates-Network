{
 "cells": [
  {
   "cell_type": "code",
   "execution_count": 1,
   "metadata": {},
   "outputs": [],
   "source": [
    "import json\n",
    "import h5py\n",
    "from load_data import *\n",
    "from model import *\n",
    "from plotting import *\n",
    "import tensorflow as tf \n",
    "import os\n",
    "from numpy import sqrt as sqrt"
   ]
  },
  {
   "cell_type": "markdown",
   "metadata": {},
   "source": [
    "Importamos los ground truth del conjunto de entrenamiento y test. "
   ]
  },
  {
   "cell_type": "code",
   "execution_count": 2,
   "metadata": {},
   "outputs": [],
   "source": [
    "json_train = open('JSON FILES\\DTS_SG_part_A.json')\n",
    "json_test = open('JSON FILES\\DTS_SG_part_A_TEST.json')\n",
    "paths_train = json.load(json_train)\n",
    "paths_test = json.load(json_test)\n",
    "\n",
    "#Cargamos la data \n",
    "train_GT = mLoad_GT(paths_train, n=10)\n",
    "train_img = mLoad_Img(paths_train, n=10)\n",
    "\n",
    "test_GT = mLoad_GT(paths_test, n=5)\n",
    "test_img = mLoad_Img(paths_test, n=5)"
   ]
  },
  {
   "cell_type": "markdown",
   "metadata": {},
   "source": [
    "Construimos la red neuronal. Este sera un prototipo hasta siguiente cambio"
   ]
  },
  {
   "cell_type": "code",
   "execution_count": 18,
   "metadata": {},
   "outputs": [
    {
     "name": "stdout",
     "output_type": "stream",
     "text": [
      "Model: \"model\"\n",
      "_________________________________________________________________\n",
      " Layer (type)                Output Shape              Param #   \n",
      "=================================================================\n",
      " input_1 (InputLayer)        [(None, 768, 1024, 1)]    0         \n",
      "                                                                 \n",
      " ftgd_conv_layer (FTGDConvLa  (None, 768, 1024, 12)    102       \n",
      " yer)                                                            \n",
      "                                                                 \n",
      " activation_5 (Activation)   (None, 768, 1024, 12)     0         \n",
      "                                                                 \n",
      " ftgd_conv_layer_1 (FTGDConv  (None, 768, 1024, 14)    1038      \n",
      " Layer)                                                          \n",
      "                                                                 \n",
      " activation_6 (Activation)   (None, 768, 1024, 14)     0         \n",
      "                                                                 \n",
      " ftgd_conv_layer_2 (FTGDConv  (None, 768, 1024, 16)    1374      \n",
      " Layer)                                                          \n",
      "                                                                 \n",
      " activation_7 (Activation)   (None, 768, 1024, 16)     0         \n",
      "                                                                 \n",
      " ftgd_conv_layer_3 (FTGDConv  (None, 768, 1024, 20)    1950      \n",
      " Layer)                                                          \n",
      "                                                                 \n",
      " activation_8 (Activation)   (None, 768, 1024, 20)     0         \n",
      "                                                                 \n",
      " ftgd_conv_layer_4 (FTGDConv  (None, 768, 1024, 64)    7710      \n",
      " Layer)                                                          \n",
      "                                                                 \n",
      " activation_9 (Activation)   (None, 768, 1024, 64)     0         \n",
      "                                                                 \n",
      " conv2d (Conv2D)             (None, 768, 1024, 1)      65        \n",
      "                                                                 \n",
      "=================================================================\n",
      "Total params: 12,239\n",
      "Trainable params: 12,179\n",
      "Non-trainable params: 60\n",
      "_________________________________________________________________\n"
     ]
    }
   ],
   "source": [
    "model.build_graph(input_shape).summary()"
   ]
  },
  {
   "cell_type": "code",
   "execution_count": 3,
   "metadata": {},
   "outputs": [],
   "source": [
    "#Definimos los sigmas\n",
    "input_sigma = []\n",
    "for i in range(5):\n",
    "    input_sigma.append(0.8*(sqrt(2))**(i))\n",
    "    \n",
    "#Definimos el tamaño de nuestra imagen.   \n",
    "input_shape = train_img[0,:,:,:].shape\n",
    "\n",
    "#Creamos el modelo\n",
    "model = Betsy(input_shape= input_shape, input_sigmas= input_sigma, input_kernel_size=(9, 9))\n",
    "\n",
    "\n",
    "#model.build_graph(input_shape).summary()\n",
    "#Compliamos el modelo\n",
    "model.compile(loss = GAME_loss,\n",
    "              optimizer = tf.keras.optimizers.Adam(learning_rate = 0.01), \n",
    "              metrics = [sMAE(), RMSE()])"
   ]
  },
  {
   "cell_type": "markdown",
   "metadata": {},
   "source": [
    "Entrenamos un poco para testeo!"
   ]
  },
  {
   "cell_type": "code",
   "execution_count": 4,
   "metadata": {},
   "outputs": [],
   "source": [
    "checkpoint_path = \"training/cp-{epoch:04d}.ckpt\"\n",
    "checkpoint_dir = os.path.dirname(checkpoint_path)"
   ]
  },
  {
   "cell_type": "code",
   "execution_count": 5,
   "metadata": {},
   "outputs": [
    {
     "name": "stdout",
     "output_type": "stream",
     "text": [
      "Epoch 1/2\n",
      "1/1 [==============================] - 269s 269s/step - loss: 148625.3438 - sMAE: 0.0000e+00 - RMSE: 0.0000e+00 - val_loss: 296.0960 - val_sMAE: 0.0000e+00 - val_RMSE: 0.0000e+00\n",
      "Epoch 2/2\n",
      "1/1 [==============================] - 214s 214s/step - loss: 453.0987 - sMAE: 0.0000e+00 - RMSE: 0.0000e+00 - val_loss: 296.1187 - val_sMAE: 0.0000e+00 - val_RMSE: 0.0000e+00\n"
     ]
    },
    {
     "data": {
      "text/plain": [
       "<keras.callbacks.History at 0x270001206d0>"
      ]
     },
     "execution_count": 5,
     "metadata": {},
     "output_type": "execute_result"
    }
   ],
   "source": [
    "batch_size = 10\n",
    "\n",
    "# Create a callback that saves the model's weights\n",
    "cp_callback = tf.keras.callbacks.ModelCheckpoint(filepath=checkpoint_path,\n",
    "                                                 save_weights_only=True,\n",
    "                                                 verbose=1)\n",
    "\n",
    "model.fit(train_img, \n",
    "          train_GT, \n",
    "          batch_size = batch_size, \n",
    "          epochs = 2, \n",
    "          validation_data=(test_img, test_GT)) \n",
    "          #callbacks=[cp_callback])"
   ]
  },
  {
   "cell_type": "code",
   "execution_count": 21,
   "metadata": {},
   "outputs": [],
   "source": [
    "tt = model.layers[0].GaussFilters"
   ]
  },
  {
   "cell_type": "code",
   "execution_count": 24,
   "metadata": {},
   "outputs": [
    {
     "data": {
      "text/plain": [
       "TensorShape([9, 9, 1, 12])"
      ]
     },
     "execution_count": 24,
     "metadata": {},
     "output_type": "execute_result"
    }
   ],
   "source": [
    "tt.shape"
   ]
  },
  {
   "cell_type": "code",
   "execution_count": 28,
   "metadata": {},
   "outputs": [
    {
     "data": {
      "text/plain": [
       "<matplotlib.image.AxesImage at 0x27028947cd0>"
      ]
     },
     "execution_count": 28,
     "metadata": {},
     "output_type": "execute_result"
    },
    {
     "data": {
      "image/png": "[encoded data removed]",
      "text/plain": [
       "<Figure size 640x480 with 1 Axes>"
      ]
     },
     "metadata": {},
     "output_type": "display_data"
    }
   ],
   "source": [
    "import matplotlib.pyplot as plt\n",
    "plt.imshow(tt[:,:,0,3])"
   ]
  },
  {
   "cell_type": "code",
   "execution_count": 6,
   "metadata": {},
   "outputs": [],
   "source": [
    "model.layers[0].deploy()\n",
    "model.layers[1].deploy()\n",
    "model.layers[2].deploy()\n",
    "model.layers[3].deploy()\n",
    "model.layers[4].deploy()"
   ]
  },
  {
   "cell_type": "code",
   "execution_count": 9,
   "metadata": {},
   "outputs": [],
   "source": [
    "predict = model(test_img)"
   ]
  },
  {
   "cell_type": "code",
   "execution_count": 17,
   "metadata": {},
   "outputs": [],
   "source": [
    "import pandas as pd\n",
    "dd = pd.DataFrame(predict[0,:,:,0])\n",
    "dd.to_excel('rr.xlsx')"
   ]
  },
  {
   "cell_type": "code",
   "execution_count": 10,
   "metadata": {},
   "outputs": [
    {
     "data": {
      "text/plain": [
       "TensorShape([5, 768, 1024, 1])"
      ]
     },
     "execution_count": 10,
     "metadata": {},
     "output_type": "execute_result"
    }
   ],
   "source": [
    "predict.shape"
   ]
  },
  {
   "cell_type": "code",
   "execution_count": 19,
   "metadata": {},
   "outputs": [
    {
     "data": {
      "text/plain": [
       "<matplotlib.image.AxesImage at 0x2702209d820>"
      ]
     },
     "execution_count": 19,
     "metadata": {},
     "output_type": "execute_result"
    },
    {
     "data": {
      "image/png": "[encoded data removed]",
      "text/plain": [
       "<Figure size 640x480 with 1 Axes>"
      ]
     },
     "metadata": {},
     "output_type": "display_data"
    }
   ],
   "source": [
    "import matplotlib.pyplot as plt\n",
    "plt.imshow(predict[0,:,:,:])"
   ]
  },
  {
   "cell_type": "code",
   "execution_count": 2,
   "metadata": {},
   "outputs": [
    {
     "data": {
      "text/plain": [
       "[0.8,\n",
       " 1.1313708498984762,\n",
       " 1.6000000000000005,\n",
       " 2.2627416997969525,\n",
       " 3.200000000000001]"
      ]
     },
     "execution_count": 2,
     "metadata": {},
     "output_type": "execute_result"
    }
   ],
   "source": [
    "from numpy import sqrt as sqrt\n",
    "input_sigma = []\n",
    "for i in range(5):\n",
    "    input_sigma.append(0.8*(sqrt(2))**(i))\n",
    "\n",
    "input_sigma"
   ]
  }
 ],
 "metadata": {
  "kernelspec": {
   "display_name": "Python 3.9.12 ('base')",
   "language": "python",
   "name": "python3"
  },
  "language_info": {
   "codemirror_mode": {
    "name": "ipython",
    "version": 3
   },
   "file_extension": ".py",
   "mimetype": "text/x-python",
   "name": "python",
   "nbconvert_exporter": "python",
   "pygments_lexer": "ipython3",
   "version": "3.9.13"
  },
  "orig_nbformat": 4,
  "vscode": {
   "interpreter": {
    "hash": "e06ff7da33dc9620448857a90ad8b5f428f0d573d205a934d2841c8aee45ea32"
   }
  }
 },
 "nbformat": 4,
 "nbformat_minor": 2
}
