{
 "cells": [
  {
   "cell_type": "code",
   "execution_count": null,
   "metadata": {},
   "outputs": [],
   "source": [
    "import json\n",
    "import h5py\n",
    "from load_data import *\n",
    "from model import *\n",
    "from plotting import *\n",
    "import tensorflow as tf \n",
    "import os\n",
    "from numpy import sqrt as sqrt"
   ]
  },
  {
   "cell_type": "markdown",
   "metadata": {},
   "source": [
    "Importamos los ground truth del conjunto de entrenamiento y test. "
   ]
  },
  {
   "cell_type": "code",
   "execution_count": null,
   "metadata": {},
   "outputs": [],
   "source": [
    "json_train = open('JSON FILES\\DTS_SG_part_A.json')\n",
    "json_test = open('JSON FILES\\DTS_SG_part_A_TEST.json')\n",
    "paths_train = json.load(json_train)\n",
    "paths_test = json.load(json_test)\n",
    "\n",
    "#Cargamos la data \n",
    "train_GT = mLoad_GT(paths_train, n=10)\n",
    "train_img = mLoad_Img(paths_train, n=10)\n",
    "\n",
    "test_GT = mLoad_GT(paths_test, n=5)\n",
    "test_img = mLoad_Img(paths_test, n=5)"
   ]
  },
  {
   "cell_type": "markdown",
   "metadata": {},
   "source": [
    "Construimos la red neuronal. Este sera un prototipo hasta siguiente cambio"
   ]
  },
  {
   "cell_type": "code",
   "execution_count": null,
   "metadata": {},
   "outputs": [],
   "source": [
    "#Definimos los sigmas\n",
    "input_sigma = []\n",
    "for i in range(5):\n",
    "    input_sigma.append(0.8*(sqrt(2))**(i))\n",
    "    \n",
    "#Definimos el tamaño de nuestra imagen.   \n",
    "input_shape = train_img[0,:,:,:].shape\n",
    "\n",
    "#Creamos el modelo\n",
    "model = Betsy(input_shape= input_shape, input_sigmas= input_sigma, input_kernel_size=(9, 9))\n",
    "\n",
    "\n",
    "#model.build_graph(input_shape).summary()\n",
    "#Compliamos el modelo\n",
    "model.compile(loss = GAME_loss,\n",
    "              optimizer = tf.keras.optimizers.Adam(learning_rate = 0.01), \n",
    "              metrics = [sMAE(), RMSE()])"
   ]
  },
  {
   "cell_type": "markdown",
   "metadata": {},
   "source": [
    "Entrenamos un poco para testeo!"
   ]
  },
  {
   "cell_type": "code",
   "execution_count": null,
   "metadata": {},
   "outputs": [],
   "source": [
    "checkpoint_path = \"training/cp-{epoch:04d}.ckpt\"\n",
    "checkpoint_dir = os.path.dirname(checkpoint_path)"
   ]
  },
  {
   "cell_type": "code",
   "execution_count": null,
   "metadata": {},
   "outputs": [],
   "source": [
    "batch_size = 10\n",
    "\n",
    "# Create a callback that saves the model's weights\n",
    "cp_callback = tf.keras.callbacks.ModelCheckpoint(filepath=checkpoint_path,\n",
    "                                                 save_weights_only=True,\n",
    "                                                 verbose=1)\n",
    "\n",
    "model.fit(train_img, \n",
    "          train_GT, \n",
    "          batch_size = batch_size, \n",
    "          epochs = 1, \n",
    "          validation_data=(test_img, test_GT), \n",
    "          callbacks=[cp_callback])"
   ]
  },
  {
   "cell_type": "code",
   "execution_count": null,
   "metadata": {},
   "outputs": [],
   "source": [
    "latest = tf.train.latest_checkpoint(checkpoint_dir)\n",
    "model.load_weights(latest)\n",
    "model.deploy()\n",
    "predict = model.predict(train_img)\n",
    "count_estimate(test_img, test_GT, predict, model)"
   ]
  },
  {
   "cell_type": "code",
   "execution_count": null,
   "metadata": {},
   "outputs": [],
   "source": [
    "from numpy import sqrt as sqrt\n",
    "input_sigma = []\n",
    "for i in range(5):\n",
    "    input_sigma.append(0.8*(sqrt(2))**(i))\n",
    "\n",
    "input_sigma"
   ]
  }
 ],
 "metadata": {
  "kernelspec": {
   "display_name": "Python 3.9.12 ('base')",
   "language": "python",
   "name": "python3"
  },
  "language_info": {
   "codemirror_mode": {
    "name": "ipython",
    "version": 3
   },
   "file_extension": ".py",
   "mimetype": "text/x-python",
   "name": "python",
   "nbconvert_exporter": "python",
   "pygments_lexer": "ipython3",
   "version": "3.9.13"
  },
  "orig_nbformat": 4,
  "vscode": {
   "interpreter": {
    "hash": "e06ff7da33dc9620448857a90ad8b5f428f0d573d205a934d2841c8aee45ea32"
   }
  }
 },
 "nbformat": 4,
 "nbformat_minor": 2
}
