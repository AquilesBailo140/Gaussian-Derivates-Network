{
 "cells": [
  {
   "cell_type": "code",
   "execution_count": 5,
   "metadata": {},
   "outputs": [],
   "source": [
    "import numpy as np\n",
    "import os\n",
    "import pandas as pd \n",
    "from matplotlib import pyplot as plt\n",
    "from scipy.ndimage.filters import gaussian_filter \n",
    "from scipy.spatial import KDTree \n",
    "from matplotlib import cm as CM\n",
    "from PIL import Image\n",
    "import torch\n",
    "from pathlib import Path\n",
    "#from GT_functions import *"
   ]
  },
  {
   "cell_type": "code",
   "execution_count": 2,
   "metadata": {},
   "outputs": [],
   "source": [
    "#Definimos la ruta del dataset\n",
    "root = r'C:\\Users\\Usuario\\Pictures\\Bases de Datos\\Shanghai Tech'\n",
    "\n",
    "#now generate the ShanghaiA's ground truth\n",
    "part_A_train = os.path.join(root,'part_A_final/train_data','images')\n",
    "part_A_test = os.path.join(root,'part_A_final/test_data','images')\n",
    "part_B_train = os.path.join(root,'part_B_final/train_data','images')\n",
    "part_B_test = os.path.join(root,'part_B_final/test_data','images')\n",
    "\n",
    "#path_sets = [part_A_train,part_A_test]\n",
    "\n",
    "\n",
    "img_paths = []\n",
    "for path in Path(part_A_train).glob('*.jpg'):\n",
    "    img_paths.append(path)\n"
   ]
  },
  {
   "cell_type": "code",
   "execution_count": 14,
   "metadata": {},
   "outputs": [],
   "source": [
    "def gaussian_filter_density(gts):\n",
    "    density = np.zeros(gts.shape, dtype=np.float32)\n",
    "    gt_count = np.count_nonzero(gts)\n",
    "    if gt_count == 0:\n",
    "        return density\n",
    "\n",
    "    \n",
    "    leafsize = 2048\n",
    "    gts_points =  np.transpose(gts.nonzero())\n",
    "    tree = KDTree(gts_points, leafsize= leafsize)\n",
    "\n",
    "    result = pd.DataFrame({'x_point': [], 'y_point': [], 'distance': []})\n",
    "    i = 0\n",
    "\n",
    "    for pt in gts_points:\n",
    "        pt2d = np.zeros(gts.shape, dtype=np.float32)\n",
    "        try:\n",
    "            pt2d[pt[0], pt[1]] = 1\n",
    "        except:\n",
    "            print(pt)\n",
    "\n",
    "        distances, locations = tree.query(pt, k=4)\n",
    "        if gt_count > 1:\n",
    "           sigma = (distances[1]+distances[2]+distances[3])*0.1\n",
    "           #sigma = 1\n",
    "        else:\n",
    "           sigma = np.average(np.array(gt.shape))/2./2. #case: 1 point\n",
    "        #density += gaussian_filter(pt2d, sigma, mode='constant')\n",
    "\n",
    "        result.loc[i, 'x_point'] = pt[0]\n",
    "        result.loc[i, 'y_point'] = pt[1]\n",
    "        result.loc[i, 'distance'] = sigma\n",
    "\n",
    "        i = i + 1\n",
    "\n",
    "    return result\n",
    "\n"
   ]
  },
  {
   "cell_type": "code",
   "execution_count": 15,
   "metadata": {},
   "outputs": [],
   "source": [
    "for img_path in img_paths[0:1]:\n",
    "    mat = io.loadmat(str(img_path).replace('.jpg','.mat').replace('images','ground_truth').replace('IMG_','GT_IMG_'))\n",
    "    img = plt.imread(img_path)\n",
    "\n",
    "    #aqui solo tomamos el alto y el ancho de la imagen\n",
    "    k = np.zeros((img.shape[0],img.shape[1]))\n",
    "\n",
    "    #Hacemos esto porque la wea de .mat se guarda raro\n",
    "    gt = mat[\"image_info\"][0,0][0,0][0]\n",
    "    \n",
    "    #Validamos que esten dentro de nuestra matriz, y colocamos un uno donde encontramos una cabeza\n",
    "    for i in range(0,len(gt)):\n",
    "        if (int(gt[i][1])<img.shape[0] and int(gt[i][0])<img.shape[1]):\n",
    "            k[int(gt[i][1]),int(gt[i][0])]=1\n",
    "\n",
    "\n",
    "    fg = gaussian_filter_density(k)\n",
    "    \n",
    "    #with h5py.File(img_path.replace('.jpg','.h5').replace('images','ground_truth'), 'w') as hf:\n",
    "     #       hf['density'] = k"
   ]
  },
  {
   "cell_type": "code",
   "execution_count": 13,
   "metadata": {},
   "outputs": [
    {
     "data": {
      "text/plain": [
       "(768, 1024)"
      ]
     },
     "execution_count": 13,
     "metadata": {},
     "output_type": "execute_result"
    }
   ],
   "source": []
  }
 ],
 "metadata": {
  "kernelspec": {
   "display_name": "Python 3.9.12 ('base')",
   "language": "python",
   "name": "python3"
  },
  "language_info": {
   "codemirror_mode": {
    "name": "ipython",
    "version": 3
   },
   "file_extension": ".py",
   "mimetype": "text/x-python",
   "name": "python",
   "nbconvert_exporter": "python",
   "pygments_lexer": "ipython3",
   "version": "3.9.12"
  },
  "orig_nbformat": 4,
  "vscode": {
   "interpreter": {
    "hash": "e06ff7da33dc9620448857a90ad8b5f428f0d573d205a934d2841c8aee45ea32"
   }
  }
 },
 "nbformat": 4,
 "nbformat_minor": 2
}
